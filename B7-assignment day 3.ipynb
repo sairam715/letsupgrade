{
 "cells": [
  {
   "cell_type": "markdown",
   "metadata": {},
   "source": [
    "# day3-assignment 1"
   ]
  },
  {
   "cell_type": "markdown",
   "metadata": {},
   "source": [
    "#  pilots"
   ]
  },
  {
   "cell_type": "code",
   "execution_count": 1,
   "metadata": {},
   "outputs": [
    {
     "name": "stdout",
     "output_type": "stream",
     "text": [
      "enter the number400\n",
      "400 safe to land\n"
     ]
    }
   ],
   "source": [
    "number= input(\"enter the number\")\n",
    "num = int(number)\n",
    "if num <= 1000:\n",
    "    print(num,\"safe to land\")\n",
    "elif num > 1000 and num < 5000:\n",
    "    print(num,\"bring back to 1000\")\n",
    "else:\n",
    "    print(num,\"turn around\")"
   ]
  },
  {
   "cell_type": "markdown",
   "metadata": {},
   "source": [
    "# Assignment 2"
   ]
  },
  {
   "cell_type": "markdown",
   "metadata": {},
   "source": [
    "# prime number"
   ]
  },
  {
   "cell_type": "code",
   "execution_count": 6,
   "metadata": {},
   "outputs": [
    {
     "name": "stdout",
     "output_type": "stream",
     "text": [
      "\n",
      "2  \n",
      "3  \n",
      "5  \n",
      "7  \n",
      "11  \n",
      "13  \n",
      "17  \n",
      "19  \n",
      "23  \n",
      "29  \n",
      "31  \n",
      "37  \n",
      "41  \n",
      "43  \n",
      "47  \n",
      "53  \n",
      "59  \n",
      "61  \n",
      "67  \n",
      "71  \n",
      "73  \n",
      "79  \n",
      "83  \n",
      "89  \n",
      "97  \n",
      "101  \n",
      "103  \n",
      "107  \n",
      "109  \n",
      "113  \n",
      "127  \n",
      "131  \n",
      "137  \n",
      "139  \n",
      "149  \n",
      "151  \n",
      "157  \n",
      "163  \n",
      "167  \n",
      "173  \n",
      "179  \n",
      "181  \n",
      "191  \n",
      "193  \n",
      "197  \n",
      "199  "
     ]
    }
   ],
   "source": [
    "for number in range (1,200):\n",
    "    count = 0\n",
    "    for i in range(2,(number//2+1)):\n",
    "        if(number % i == 0):\n",
    "            count = count + 1\n",
    "            break\n",
    "            \n",
    "    if(count == 0 and number != 1):\n",
    "        print(\"\")\n",
    "        print(\"%d\" %number , end = '  ')\n",
    "        "
   ]
  },
  {
   "cell_type": "code",
   "execution_count": null,
   "metadata": {},
   "outputs": [],
   "source": []
  }
 ],
 "metadata": {
  "kernelspec": {
   "display_name": "Python 3",
   "language": "python",
   "name": "python3"
  },
  "language_info": {
   "codemirror_mode": {
    "name": "ipython",
    "version": 3
   },
   "file_extension": ".py",
   "mimetype": "text/x-python",
   "name": "python",
   "nbconvert_exporter": "python",
   "pygments_lexer": "ipython3",
   "version": "3.8.3"
  }
 },
 "nbformat": 4,
 "nbformat_minor": 4
}
