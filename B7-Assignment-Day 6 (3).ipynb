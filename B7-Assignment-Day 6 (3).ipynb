{
 "cells": [
  {
   "cell_type": "markdown",
   "metadata": {},
   "source": [
    "# Day 6-Assignment 1"
   ]
  },
  {
   "cell_type": "markdown",
   "metadata": {},
   "source": [
    "# Bank Account"
   ]
  },
  {
   "cell_type": "code",
   "execution_count": 4,
   "metadata": {},
   "outputs": [
    {
     "name": "stdout",
     "output_type": "stream",
     "text": [
      "Enter the name of the owner:Donthula Pranavi\n",
      "Name of the owner: Donthula Pranavi\n",
      "My first balance = 0\n",
      "Enter amount to be deposited:55000\n",
      "Amount deposited: 55000.0\n",
      "Enter the amount to be withdraw: 5470\n",
      "Amount withdraw: 5470.0\n",
      "Net Available Balance =  49530.0\n"
     ]
    }
   ],
   "source": [
    "class Bank_Account():\n",
    "    def __int__(self,ownerName,balance):\n",
    "        self.ownerName = ownerName\n",
    "        self.balance = Balance\n",
    "        \n",
    "    def ownerName(self):\n",
    "        ownerName = input(\"Enter the name of the owner:\")\n",
    "        self.ownerName = ownerName\n",
    "        print(\"Name of the owner:\",ownerName)\n",
    "        \n",
    "    def balance(self):\n",
    "        self.balance = 0\n",
    "        print(\"My first balance = 0\")\n",
    "        \n",
    "    def deposit(self):\n",
    "        amount = float(input(\"Enter amount to be deposited:\"))\n",
    "        self.balance += amount\n",
    "        print(\"Amount deposited:\",amount)\n",
    "        \n",
    "    def withdraw(self):\n",
    "        amount = float(input(\"Enter the amount to be withdraw: \"))\n",
    "        if self.balance >= amount:\n",
    "            self.balance -= amount\n",
    "            print(\"Amount withdraw:\",amount)\n",
    "        else:\n",
    "            print(\"Insufficient balance\")\n",
    "            \n",
    "    def display(self):\n",
    "        print(\"Net Available Balance = \",self.balance)\n",
    "        \n",
    "s = Bank_Account()\n",
    "s.ownerName()\n",
    "s.balance()\n",
    "s.deposit()\n",
    "s.withdraw()\n",
    "s.display()"
   ]
  },
  {
   "cell_type": "markdown",
   "metadata": {},
   "source": [
    "# Assignment 2"
   ]
  },
  {
   "cell_type": "markdown",
   "metadata": {},
   "source": [
    "# Cone"
   ]
  },
  {
   "cell_type": "code",
   "execution_count": 42,
   "metadata": {},
   "outputs": [],
   "source": [
    "import math \n",
    "\n",
    "\n",
    "class cone():\n",
    "    def __init__(self,radius,height):\n",
    "        \n",
    "        self.radius = radius\n",
    "        self.height = height\n",
    "\n",
    "\n",
    "    def volume(self): \n",
    "        vol = (1 / 3) * math.pi * self.radius * self.radius * self.height \n",
    "        print( \"Volume Of Cone : \", str(vol) ) \n",
    "\n",
    "    def surfaceareabase(self): \n",
    "        base = math.pi * self.radius * self.radius \n",
    "        print( \"Surface Area Of Cone Base : \", str(base) )\n",
    "\n",
    "    def surfaceareaside(self):\n",
    "        side = math.pi * self.radius * sqrt(self.radius*self.radius+self.height*self.height) \n",
    "        print(\"Surface area of cone side: \", str(side) )"
   ]
  },
  {
   "cell_type": "code",
   "execution_count": 43,
   "metadata": {},
   "outputs": [],
   "source": [
    "c = cone(5,12)"
   ]
  },
  {
   "cell_type": "code",
   "execution_count": 44,
   "metadata": {},
   "outputs": [
    {
     "name": "stdout",
     "output_type": "stream",
     "text": [
      "Volume Of Cone :  314.15926535897927\n"
     ]
    }
   ],
   "source": [
    "c.volume()"
   ]
  },
  {
   "cell_type": "code",
   "execution_count": 45,
   "metadata": {},
   "outputs": [
    {
     "name": "stdout",
     "output_type": "stream",
     "text": [
      "Surface Area Of Cone Base :  78.53981633974483\n"
     ]
    }
   ],
   "source": [
    "c.surfaceareabase()"
   ]
  },
  {
   "cell_type": "code",
   "execution_count": 46,
   "metadata": {},
   "outputs": [
    {
     "name": "stdout",
     "output_type": "stream",
     "text": [
      "Surface area of cone side:  204.20352248333654\n"
     ]
    }
   ],
   "source": [
    "c.surfaceareaside()"
   ]
  },
  {
   "cell_type": "code",
   "execution_count": null,
   "metadata": {},
   "outputs": [],
   "source": []
  }
 ],
 "metadata": {
  "kernelspec": {
   "display_name": "Python 3",
   "language": "python",
   "name": "python3"
  },
  "language_info": {
   "codemirror_mode": {
    "name": "ipython",
    "version": 3
   },
   "file_extension": ".py",
   "mimetype": "text/x-python",
   "name": "python",
   "nbconvert_exporter": "python",
   "pygments_lexer": "ipython3",
   "version": "3.8.3"
  }
 },
 "nbformat": 4,
 "nbformat_minor": 4
}
